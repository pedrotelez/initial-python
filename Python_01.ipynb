{
  "nbformat": 4,
  "nbformat_minor": 0,
  "metadata": {
    "colab": {
      "name": "Python_01.ipynb",
      "provenance": [],
      "collapsed_sections": []
    },
    "kernelspec": {
      "name": "python3",
      "display_name": "Python 3"
    }
  },
  "cells": [
    {
      "cell_type": "code",
      "metadata": {
        "colab": {
          "base_uri": "https://localhost:8080/"
        },
        "id": "HP6w72pW-xuZ",
        "outputId": "d1a4e6ed-4129-4ab5-8316-9964ad372ad7"
      },
      "source": [
        "print (\"Olá mundo!\")"
      ],
      "execution_count": null,
      "outputs": [
        {
          "output_type": "stream",
          "text": [
            "Olá mundo!\n"
          ],
          "name": "stdout"
        }
      ]
    },
    {
      "cell_type": "code",
      "metadata": {
        "colab": {
          "base_uri": "https://localhost:8080/"
        },
        "id": "mi1TAZJt_q5u",
        "outputId": "23d5e7a8-4433-4aeb-95ec-c8be4c9a5789"
      },
      "source": [
        "nome = \"Olá, mundo!\"\n",
        "print(nome)"
      ],
      "execution_count": null,
      "outputs": [
        {
          "output_type": "stream",
          "text": [
            "Olá, mundo!\n"
          ],
          "name": "stdout"
        }
      ]
    },
    {
      "cell_type": "code",
      "metadata": {
        "colab": {
          "base_uri": "https://localhost:8080/"
        },
        "id": "OTcwhyHCA6iF",
        "outputId": "c2c121a6-ccc5-480c-fcb7-a246d84a5c3d"
      },
      "source": [
        "numero = 5  #numero inteiro\n",
        "numero_decimal = 5.5  #numero decimal\n",
        "texto = \"Pedro\"  #texto\n",
        "maiorIdade = True  #booleano\n",
        "\n",
        "print(numero, type(numero))\n",
        "print(numero_decimal, type(numero_decimal))\n",
        "print(texto, type(texto)) \n",
        "print(maiorIdade, type(maiorIdade))\n"
      ],
      "execution_count": null,
      "outputs": [
        {
          "output_type": "stream",
          "text": [
            "5 <class 'int'>\n",
            "5.5 <class 'float'>\n",
            "Pedro <class 'str'>\n",
            "True <class 'bool'>\n"
          ],
          "name": "stdout"
        }
      ]
    },
    {
      "cell_type": "code",
      "metadata": {
        "colab": {
          "base_uri": "https://localhost:8080/"
        },
        "id": "jiW9gZDuHyHD",
        "outputId": "26b8ada2-fab2-4714-da1f-a24d4cf81ae4"
      },
      "source": [
        "soma = 2 + 3.5\n",
        "subtracao = 3 - 8\n",
        "divisao = 10/3\n",
        "multiplicacao = 2.5 * 3\n",
        "print(soma, subtracao, divisao, multiplicacao)\n",
        "\n",
        "exp = pow(2,3)\n",
        "div_inteira = 10 // 3\n",
        "resto_div = 10 % 3\n",
        "print(exp)"
      ],
      "execution_count": null,
      "outputs": [
        {
          "output_type": "stream",
          "text": [
            "5.5 -5 3.3333333333333335 7.5\n",
            "8\n"
          ],
          "name": "stdout"
        }
      ]
    },
    {
      "cell_type": "code",
      "metadata": {
        "colab": {
          "base_uri": "https://localhost:8080/",
          "height": 35
        },
        "id": "4SQSbqUvDK9D",
        "outputId": "7dd7f27d-731a-4bd6-f14b-b35e50ece6b2"
      },
      "source": [
        "# para comentar é só fazer isso\n",
        "\"\"\"\n",
        "ou isso se vc quiser\n",
        "varias\n",
        "linhas\n",
        "palmeiras nao tem mundial\n",
        "\"\"\""
      ],
      "execution_count": null,
      "outputs": [
        {
          "output_type": "execute_result",
          "data": {
            "application/vnd.google.colaboratory.intrinsic+json": {
              "type": "string"
            },
            "text/plain": [
              "'\\nou isso se vc quiser\\nvarias\\nlinhas\\npalmeiras nao tem mundial\\n'"
            ]
          },
          "metadata": {
            "tags": []
          },
          "execution_count": 34
        }
      ]
    },
    {
      "cell_type": "code",
      "metadata": {
        "colab": {
          "base_uri": "https://localhost:8080/"
        },
        "id": "7mn0phO9Drcv",
        "outputId": "95371033-abf5-47d4-8cd4-3d02eba3f7ea"
      },
      "source": [
        "print(divisao, div_inteira, resto_div)"
      ],
      "execution_count": null,
      "outputs": [
        {
          "output_type": "stream",
          "text": [
            "3.3333333333333335 3 1\n"
          ],
          "name": "stdout"
        }
      ]
    },
    {
      "cell_type": "code",
      "metadata": {
        "colab": {
          "base_uri": "https://localhost:8080/"
        },
        "id": "46orbew4Ki5T",
        "outputId": "43c329d9-c9bc-4a81-ec5c-a9cf8e8bfc35"
      },
      "source": [
        "# EXERCICIO 1 (calcular gorjeta)\n",
        "\n",
        "valor_refeicao = 42.54\n",
        "taxa_servico = valor_refeicao/10\n",
        "valor_total = valor_refeicao + taxa_servico\n",
        "\n",
        "print(\"O valor total da conta é de: R$\",valor_total)"
      ],
      "execution_count": null,
      "outputs": [
        {
          "output_type": "stream",
          "text": [
            "O valor total da conta é de: R$ 46.794\n"
          ],
          "name": "stdout"
        }
      ]
    },
    {
      "cell_type": "code",
      "metadata": {
        "colab": {
          "base_uri": "https://localhost:8080/"
        },
        "id": "-6vGS_7HJzZ1",
        "outputId": "f3e1a4fe-1dd9-4e0d-fbd6-3ef5ff58254a"
      },
      "source": [
        "# FUNÇÃO INPUT\n",
        "\n",
        "#valor_refeicao = input(\"Digite o valor da refeição: \")\n",
        "#print(type(valor_refeicao))\n",
        "\n",
        "# corrigindo #\n",
        "\n",
        "valor_refeicao = float(input(\"Digite o valor da refeição: R$ \"))\n",
        "taxa_servico = valor_refeicao / 10\n",
        "valor_total = valor_refeicao + taxa_servico\n",
        "\n",
        "print(\"O valor total da conta é de: R$\", valor_total) # ou print(\"O valor total da conta é de: R$\" + str(valor_total)) ou \n",
        "print(f\"O valor total da conta é de: R$ {valor_total:.2f}\") # melhor forma\n"
      ],
      "execution_count": null,
      "outputs": [
        {
          "output_type": "stream",
          "text": [
            "Digite o valor da refeição: R$ 42.54\n",
            "O valor total da conta é de: R$ 46.794\n",
            "O valor total da conta é de: R$      46.79\n"
          ],
          "name": "stdout"
        }
      ]
    },
    {
      "cell_type": "code",
      "metadata": {
        "colab": {
          "base_uri": "https://localhost:8080/"
        },
        "id": "96SGje6xbJQZ",
        "outputId": "d1b22804-f8a1-48d4-bbf4-a0b941297f9c"
      },
      "source": [
        "# Indentação e formatação dos blocos\n",
        "\n",
        "if True:\n",
        "  print(\"Esse print será lido\")\n",
        "  print(\"Esse print será lido\")\n",
        "\n",
        "if False:\n",
        "  print(\"Esse print não será lido\")\n",
        "  print(\"Esse print não será lido\")\n",
        "print(\"Esse print será lido\")\n",
        "\n",
        "print(1)\n"
      ],
      "execution_count": null,
      "outputs": [
        {
          "output_type": "stream",
          "text": [
            "Esse print será lido\n",
            "Esse print será lido\n",
            "Esse print será lido\n",
            "1\n"
          ],
          "name": "stdout"
        }
      ]
    },
    {
      "cell_type": "code",
      "metadata": {
        "colab": {
          "base_uri": "https://localhost:8080/"
        },
        "id": "GeffhYapcTiL",
        "outputId": "fad218d9-ea57-42df-c526-f18e77ba160b"
      },
      "source": [
        "def exibir_dados(dado):\n",
        "  print(dado)\n",
        "  print(5)\n",
        "  print(\"Dentro do def\")\n",
        "print(\"Fora do def\")\n",
        "exibir_dados(\"dado no final do código\")"
      ],
      "execution_count": null,
      "outputs": [
        {
          "output_type": "stream",
          "text": [
            "Fora do def\n",
            "dado no final do código\n",
            "5\n",
            "Dentro do def\n"
          ],
          "name": "stdout"
        }
      ]
    },
    {
      "cell_type": "code",
      "metadata": {
        "colab": {
          "base_uri": "https://localhost:8080/"
        },
        "id": "PtOY32B8dJZX",
        "outputId": "30efe82a-3abb-418a-d2c1-b34d4401ded5"
      },
      "source": [
        "#EXERCICIO 2\n",
        "\n",
        "nome = input(\"Digite seu nome: \")\n",
        "idade = int(input(\"Digite sua idade: \"))\n",
        "genero = input(\"Gênero: \")\n",
        "\n",
        "if (idade == 1):\n",
        "  anos = \"ano\"\n",
        "else:\n",
        "  anos = \"anos\"\n",
        "\n",
        "print(f\"Olá, {nome}, você possui {idade} {anos} de idade e é do gênero {genero}.\")\n",
        "print(f\"Já pensou no que você fará no seu aniversário de {idade + 1} anos?\")"
      ],
      "execution_count": null,
      "outputs": [
        {
          "output_type": "stream",
          "text": [
            "Digite seu nome: pedro\n",
            "Digite sua idade: 20\n",
            "Gênero: masc\n",
            "Olá, pedro, você possui 20 anos de idade e é do gênero masc.\n",
            "Já pensou no que você fará no seu aniversário de 21 anos?\n"
          ],
          "name": "stdout"
        }
      ]
    },
    {
      "cell_type": "code",
      "metadata": {
        "colab": {
          "base_uri": "https://localhost:8080/"
        },
        "id": "cA0Hvl-tKMDy",
        "outputId": "9a674943-16cf-47b1-94b7-92c83ae060e5"
      },
      "source": [
        "genero = \"masculino\"\n",
        "\n",
        "print(\"Sem formatação:\", genero)\n",
        "\n",
        "print(\"Capitalize:\", genero.capitalize())\n",
        "\n",
        "print(\"Maisculo\", genero.upper())\n",
        "\n",
        "print(\"minusculo\", genero.lower())\n"
      ],
      "execution_count": null,
      "outputs": [
        {
          "output_type": "stream",
          "text": [
            "Sem formatação: masculino\n",
            "Capitalize: Masculino\n",
            "Maisculo MASCULINO\n",
            "minusculo masculino\n"
          ],
          "name": "stdout"
        }
      ]
    },
    {
      "cell_type": "code",
      "metadata": {
        "colab": {
          "base_uri": "https://localhost:8080/"
        },
        "id": "LJbycRx0L-vk",
        "outputId": "3aea6441-23ec-4e1d-f0bc-de3bfdab92b9"
      },
      "source": [
        "idade = 5  #int\n",
        "outra_idade = \"5\"  #str\n",
        "nova_idade = input(\"Idade: \")  #str\n",
        "\n",
        "outra_idade_transformada = int(outra_idade)\n",
        "nova_idade_transformada = int(nova_idade)\n",
        "\n",
        "print(idade, type(idade))\n",
        "print(outra_idade, type(outra_idade))\n",
        "print(nova_idade, type(nova_idade))\n",
        "print(outra_idade_transformada, type(outra_idade_transformada))\n",
        "print(nova_idade_transformada, type(nova_idade_transformada))\n",
        "\n"
      ],
      "execution_count": null,
      "outputs": [
        {
          "output_type": "stream",
          "text": [
            "Idade: 12\n",
            "5 <class 'int'>\n",
            "5 <class 'str'>\n",
            "12 <class 'str'>\n",
            "5 <class 'int'>\n",
            "12 <class 'int'>\n"
          ],
          "name": "stdout"
        }
      ]
    },
    {
      "cell_type": "code",
      "metadata": {
        "colab": {
          "base_uri": "https://localhost:8080/"
        },
        "id": "dEjbnvN4MvsO",
        "outputId": "9f388108-9677-49af-e5e0-9bf0203a3c04"
      },
      "source": [
        "idade = 15\n",
        "maiorIdade = idade >= 18\n",
        "\n",
        "print(\"Maior idade:\", maiorIdade, type(maiorIdade))\n"
      ],
      "execution_count": null,
      "outputs": [
        {
          "output_type": "stream",
          "text": [
            "Maior idade: False <class 'bool'>\n"
          ],
          "name": "stdout"
        }
      ]
    },
    {
      "cell_type": "code",
      "metadata": {
        "colab": {
          "base_uri": "https://localhost:8080/"
        },
        "id": "2oIVOi9NNUtB",
        "outputId": "38d992f4-305d-40fd-a2d2-7025d10ae7f0"
      },
      "source": [
        "# LOGICAS COM BOOLEANOS\n",
        "\n",
        "idade = 15\n",
        "altura = 190\n",
        "\n",
        "maior_idade = idade >= 18\n",
        "maior_que_dois_metros = altura >= 200\n",
        "\n",
        "maior_idade_e_maior_que_dois_metros = maior_idade >= 18 and maior_que_dois_metros >= 200\n",
        "\n",
        "print(\"Maior idade:\", maiorIdade, type(maiorIdade))\n",
        "print(\"Maior que 2m:\", maior_que_dois_metros, type(maior_que_dois_metros))\n",
        "\n",
        "print(\"Maior idade e maior que 2m:\", maior_que_dois_metros, type(maior_que_dois_metros))\n"
      ],
      "execution_count": null,
      "outputs": [
        {
          "output_type": "stream",
          "text": [
            "Maior idade: False <class 'bool'>\n",
            "Maior que 2m: False <class 'bool'>\n",
            "Maior idade e maior que 2m: False <class 'bool'>\n"
          ],
          "name": "stdout"
        }
      ]
    },
    {
      "cell_type": "code",
      "metadata": {
        "colab": {
          "base_uri": "https://localhost:8080/"
        },
        "id": "d0-tFTOBPVfp",
        "outputId": "53569bdc-c620-4fd7-bc14-e1f9c8687553"
      },
      "source": [
        "# Comparações\n",
        "\n",
        "print(\"1 > 1: \", 1 > 1)\n",
        "print(\"1 < 1: \", 1 < 1)\n",
        "print(\"1 == 1: \", 1 == 1)\n",
        "print(\"1 != 1: \", 1 != 1)\n",
        "print(\"1 <= 1: \", 1 <= 1)\n",
        "print(\"1 >= 1: \", 1 >= 1)"
      ],
      "execution_count": null,
      "outputs": [
        {
          "output_type": "stream",
          "text": [
            "1 > 1:  False\n",
            "1 < 1:  False\n",
            "1 == 1:  True\n",
            "1 != 1:  False\n",
            "1 <= 1:  True\n",
            "1 >= 1:  True\n"
          ],
          "name": "stdout"
        }
      ]
    },
    {
      "cell_type": "code",
      "metadata": {
        "colab": {
          "base_uri": "https://localhost:8080/"
        },
        "id": "J5SxCd6HQKrQ",
        "outputId": "e85220cf-6f4d-41f9-9263-2edf785af681"
      },
      "source": [
        "idade = 15\n",
        "maiorIdade = idade >= 18\n",
        "\n",
        "menorIdade = not maiorIdade\n",
        "\n",
        "print(\"Essa pessoa é menor de idade?\", menorIdade)"
      ],
      "execution_count": null,
      "outputs": [
        {
          "output_type": "stream",
          "text": [
            "Essa pessoa é menor de idade? True\n"
          ],
          "name": "stdout"
        }
      ]
    },
    {
      "cell_type": "code",
      "metadata": {
        "id": "KsGYyWWyQ35I"
      },
      "source": [
        "# Operadores (NOT) - inverte o operador de um booleano\n",
        "\n",
        "print()"
      ],
      "execution_count": null,
      "outputs": []
    },
    {
      "cell_type": "code",
      "metadata": {
        "colab": {
          "base_uri": "https://localhost:8080/"
        },
        "id": "WYGu6yfPRC3a",
        "outputId": "6d7a3d6c-813b-4e76-cb47-2482f609d88b"
      },
      "source": [
        "# Operadores (AND) - Multiplicação\n",
        "\n",
        "print(\"True and True: \", True and True)\n",
        "print(\"True and False: \", True and False)\n",
        "print(\"False and True: \", False and True)\n",
        "print(\"False and False: \", False and False)"
      ],
      "execution_count": null,
      "outputs": [
        {
          "output_type": "stream",
          "text": [
            "True and True:  True\n",
            "True and False:  False\n",
            "False and True:  False\n",
            "False and False:  False\n"
          ],
          "name": "stdout"
        }
      ]
    },
    {
      "cell_type": "code",
      "metadata": {
        "colab": {
          "base_uri": "https://localhost:8080/"
        },
        "id": "Htzj8gZNRu4E",
        "outputId": "724c6095-492b-450c-914d-1987aa2c99a6"
      },
      "source": [
        "# Operadores (OR)\n",
        "\n",
        "print(\"True or True: \", True or True)\n",
        "print(\"True or False: \", True or False)\n",
        "print(\"False or True: \", False or True)\n",
        "print(\"False or False: \", False or False)\n"
      ],
      "execution_count": null,
      "outputs": [
        {
          "output_type": "stream",
          "text": [
            "True or True:  True\n",
            "True or False:  True\n",
            "False or True:  True\n",
            "False or False:  False\n"
          ],
          "name": "stdout"
        }
      ]
    },
    {
      "cell_type": "code",
      "metadata": {
        "colab": {
          "base_uri": "https://localhost:8080/"
        },
        "id": "hzIYZOeUScjw",
        "outputId": "c4d0b00a-dc39-4c86-bd7a-b43fc6672fb1"
      },
      "source": [
        "print(\"1 == 1\",1 == 1)  # True \n",
        "print(\"1.0 == 1\",1.0 == 1)   # True\n",
        "print('\"1\" == 1\"',\"1\" == 1)  # False\n",
        "print(\"True == 1\",True == 1) # True\n",
        "print(\"True == 0\", True == 0)\n",
        "print(\"False == 0\", False == 0)\n",
        "print(\"False == False\", False == False)\n",
        "\n",
        "print(type(1), type(1.0), type(\"1\"))"
      ],
      "execution_count": null,
      "outputs": [
        {
          "output_type": "stream",
          "text": [
            "1 == 1 True\n",
            "1.0 == 1 True\n",
            "\"1\" == 1\" False\n",
            "True == 1 True\n",
            "True == 0 False\n",
            "False == 0 True\n",
            "False == False True\n",
            "<class 'int'> <class 'float'> <class 'str'>\n"
          ],
          "name": "stdout"
        }
      ]
    },
    {
      "cell_type": "code",
      "metadata": {
        "colab": {
          "base_uri": "https://localhost:8080/"
        },
        "id": "x9f-ByQbUMBK",
        "outputId": "88cd4f49-dd22-4b4e-b6f2-6ef81598f522"
      },
      "source": [
        "# If, elif (else if), else  -> declarações de condição\n",
        "\n",
        "# If (se)\n",
        "\n",
        "# Indentation Block\n",
        "# Bloco indentado\n",
        "\n",
        "if True:\n",
        "  print(\"Esse if será lido\")\n",
        "\n",
        "if False:\n",
        "  print(\"Esse if não será lido\")\n",
        "\n",
        "print(\"Apenas o primeiro if foi lido\")\n",
        "\n"
      ],
      "execution_count": null,
      "outputs": [
        {
          "output_type": "stream",
          "text": [
            "Esse if será lido\n",
            "Apenas o primeiro if foi lido\n"
          ],
          "name": "stdout"
        }
      ]
    },
    {
      "cell_type": "code",
      "metadata": {
        "colab": {
          "base_uri": "https://localhost:8080/"
        },
        "id": "K5v1XUjAd_J9",
        "outputId": "032c5dac-a7c8-4ee3-e3fb-4050d7836499"
      },
      "source": [
        "# Else (contrário do if)\n",
        "# sempre vem depois de um if ou de um elif\n",
        "\n",
        "if False:\n",
        "  print(\"Esse if não será lido, pois a condição dele é false\")\n",
        "else:\n",
        "  print(\"Esse else será lido, pois todas as condições anteriores são False\")\n",
        "  print(\"No caso, tivemos apenas uma condição\")\n"
      ],
      "execution_count": null,
      "outputs": [
        {
          "output_type": "stream",
          "text": [
            "Esse else será lido, pois todas as condições anteriores são False\n",
            "No caso, tivemos apenas uma condição\n"
          ],
          "name": "stdout"
        }
      ]
    },
    {
      "cell_type": "code",
      "metadata": {
        "colab": {
          "base_uri": "https://localhost:8080/"
        },
        "id": "mET3VD4fek9C",
        "outputId": "ad53a7e2-5ba9-4665-de6d-fe40e84d0b7d"
      },
      "source": [
        "# Elif (else if)\n",
        "\n",
        "if False:\n",
        "  print(\"Esse if não sera lido\")\n",
        "elif True:\n",
        "  print(\"Esse elif será lido\")\n"
      ],
      "execution_count": null,
      "outputs": [
        {
          "output_type": "stream",
          "text": [
            "Esse elif será lido\n"
          ],
          "name": "stdout"
        }
      ]
    },
    {
      "cell_type": "code",
      "metadata": {
        "colab": {
          "base_uri": "https://localhost:8080/"
        },
        "id": "Mr0Cmv9tfxkv",
        "outputId": "c7a8979b-9f7c-4669-ebd6-1aee9b9f7553"
      },
      "source": [
        "idade = 15\n",
        "maior_idade = idade >= 18\n",
        "\n",
        "if maior_idade:\n",
        "  print(\"Essa pessoa é maior de idade \")\n",
        "else:\n",
        "  print(\"Essa pessoa não é maior de idade\")\n"
      ],
      "execution_count": null,
      "outputs": [
        {
          "output_type": "stream",
          "text": [
            "Essa pessoa não é maior de idade\n"
          ],
          "name": "stdout"
        }
      ]
    },
    {
      "cell_type": "code",
      "metadata": {
        "colab": {
          "base_uri": "https://localhost:8080/"
        },
        "id": "DtLpvpULgHRG",
        "outputId": "a078a8ca-a976-4a81-b88b-13f43dc4f6b0"
      },
      "source": [
        "letra = input(\"Digite a letra: \").upper()\n",
        "\n",
        "if letra == \"A\":\n",
        "  print(\"A de Amor\")\n",
        "elif letra == \"B\":\n",
        "  print(\"B de baixinho\")\n",
        "elif letra == \"C\":\n",
        "  print(\"C de coração\")\n",
        "else:\n",
        "  print(\"Não sei opinar\")"
      ],
      "execution_count": null,
      "outputs": [
        {
          "output_type": "stream",
          "text": [
            "Digite a letra: \n",
            "Não sei opinar\n"
          ],
          "name": "stdout"
        }
      ]
    },
    {
      "cell_type": "code",
      "metadata": {
        "colab": {
          "base_uri": "https://localhost:8080/"
        },
        "id": "fcMvJAXSgbYJ",
        "outputId": "92aee6a6-a9dc-4367-c8ed-aa2fa6de8b41"
      },
      "source": [
        "# FUNÇÕES\n",
        "\n",
        "# Declaração\n",
        "\n",
        "def exibir_nome():\n",
        "  print(\"Pedro Teles\")\n",
        "\n",
        "exibir_nome()\n",
        "exibir_nome()"
      ],
      "execution_count": null,
      "outputs": [
        {
          "output_type": "stream",
          "text": [
            "Pedro Teles\n",
            "Pedro Teles\n"
          ],
          "name": "stdout"
        }
      ]
    },
    {
      "cell_type": "code",
      "metadata": {
        "id": "pK0QBdiTkrzz",
        "colab": {
          "base_uri": "https://localhost:8080/"
        },
        "outputId": "3aad6600-3eae-4ef1-e461-7263879c7621"
      },
      "source": [
        "# Declaração\n",
        "\n",
        "# 'idade' é o parâmetro necessário para que a função 'exibir_faixa_etaria()' execute.\n",
        "def exibir_faixa_etaria(idade):\n",
        "    faixa_etaria1 = idade >= 0\n",
        "    faixa_etaria2 = idade >= 18\n",
        "    faixa_etaria3 = idade >= 40\n",
        "\n",
        "    print(\"Idade:\", idade)\n",
        "    # print(\"Faixa Etária 1:\", faixa_etaria1)\n",
        "    # print(\"Faixa Etária 2:\", faixa_etaria2)\n",
        "    # print(\"Faixa Etária 3:\", faixa_etaria3)\n",
        "\n",
        "    if faixa_etaria3:\n",
        "        print(\"Essa pessoa está na faixa etária 3\")\n",
        "    elif faixa_etaria2:\n",
        "        print(\"Essa pessoa está na faixa etária 2\")\n",
        "    elif faixa_etaria1:\n",
        "        print(\"Essa pessoa está na faixa etária 1\")\n",
        "    else:\n",
        "        print(\"Informe uma idade correta!\")\n",
        "\n",
        "# Execução\n",
        "  # O valor '50' é um argumento da função 'exibir_faixa_etaria'. Esse valor entrará para a função\n",
        "  # como o parâmetro 'idade\n",
        "exibir_faixa_etaria(50)\n",
        "exibir_faixa_etaria(10)\n",
        "exibir_faixa_etaria(30)\n",
        "exibir_faixa_etaria(70)\n",
        "exibir_faixa_etaria(25)\n",
        "exibir_faixa_etaria(-10)\n"
      ],
      "execution_count": null,
      "outputs": [
        {
          "output_type": "stream",
          "text": [
            "Idade: 50\n",
            "Essa pessoa está na faixa etária 3\n",
            "Idade: 10\n",
            "Essa pessoa está na faixa etária 1\n",
            "Idade: 30\n",
            "Essa pessoa está na faixa etária 2\n",
            "Idade: 70\n",
            "Essa pessoa está na faixa etária 3\n",
            "Idade: 25\n",
            "Essa pessoa está na faixa etária 2\n",
            "Idade: -10\n",
            "Informe uma idade correta!\n"
          ],
          "name": "stdout"
        }
      ]
    },
    {
      "cell_type": "code",
      "metadata": {
        "colab": {
          "base_uri": "https://localhost:8080/"
        },
        "id": "39JrtmLbT2YC",
        "outputId": "2ec2aac0-9f97-4954-ccfe-956d79a28ad7"
      },
      "source": [
        "# Funções com retorno\n",
        "\n",
        "def soma(a, b):\n",
        "  # print(f\"{a} + {b} = {a + b}\")\n",
        "\n",
        "  return a + b\n",
        "\n",
        "print(5, type(5))\n",
        "print(10, type(10))\n",
        "print(\"soma(5, 10)\", soma(5, 10), type(soma(5, 10)))\n",
        "\n",
        "resultado_soma1 = soma(5, 10)\n",
        "print(\"resultado_soma1\", resultado_soma1, type(resultado_soma1))\n",
        "\n",
        "resultado_soma2 = soma(10, 20)\n",
        "print(\"resultado_soma2\", resultado_soma2, type(resultado_soma2))\n",
        "\n",
        "resultado_final = soma(resultado_soma1, resultado_soma2)\n",
        "print(\"resultado_final\", resultado_final)"
      ],
      "execution_count": null,
      "outputs": [
        {
          "output_type": "stream",
          "text": [
            "5 <class 'int'>\n",
            "10 <class 'int'>\n",
            "soma(5, 10) 15 <class 'int'>\n",
            "resultado_soma1 15 <class 'int'>\n",
            "resultado_soma2 30 <class 'int'>\n",
            "resultado_final 45\n"
          ],
          "name": "stdout"
        }
      ]
    },
    {
      "cell_type": "code",
      "metadata": {
        "colab": {
          "base_uri": "https://localhost:8080/"
        },
        "id": "xDwfBtUWT4eu",
        "outputId": "18b47828-be0e-4924-8d38-c45bcfdd3476"
      },
      "source": [
        "# LISTA\n",
        "\n",
        "numeros = [5, 9, 10, 20, 40, 80]\n",
        "#Indices =[0, 1, 2,  3,   4,  5]\n",
        "\n",
        "print(numeros, type(numeros))\n",
        "\n",
        "primeiro_numero = numeros[0]\n",
        "print(primeiro_numero, type(primeiro_numero))\n",
        "\n",
        "quantidade_numeros = len(numeros)\n",
        "print(\"Quantidade de numeros: \", quantidade_numeros, type(quantidade_numeros))\n",
        "\n",
        "ultimo_indice = quantidade_numeros - 1\n",
        "ultimo_numero = numeros[ultimo_indice]\n",
        "print(\"Último numero: \", ultimo_numero, type(ultimo_numero))"
      ],
      "execution_count": 1,
      "outputs": [
        {
          "output_type": "stream",
          "text": [
            "[5, 9, 10, 20, 40, 80] <class 'list'>\n",
            "5 <class 'int'>\n",
            "Quantidade de numeros:  6 <class 'int'>\n",
            "Último numero:  80 <class 'int'>\n"
          ],
          "name": "stdout"
        }
      ]
    },
    {
      "cell_type": "code",
      "metadata": {
        "colab": {
          "base_uri": "https://localhost:8080/"
        },
        "id": "xmybCqcmfRqz",
        "outputId": "82762042-4b75-4420-f207-cba3f00aef50"
      },
      "source": [
        "# FAZENDO DIRETO\n",
        "\n",
        "numeros = [1, 2, 3, 50, 100, 250]\n",
        "ultimo_numero = numeros[len(numeros) - 1]\n",
        "\n",
        "print(\"Ultimo numero: \", ultimo_numero)"
      ],
      "execution_count": null,
      "outputs": [
        {
          "output_type": "stream",
          "text": [
            "Ultimo numero:  250\n"
          ],
          "name": "stdout"
        }
      ]
    },
    {
      "cell_type": "code",
      "metadata": {
        "colab": {
          "base_uri": "https://localhost:8080/"
        },
        "id": "eK3E-pebhRLI",
        "outputId": "fdda924d-cfa7-45f0-88f1-c9f453f99559"
      },
      "source": [
        "# Adicionando coisas na lista\n",
        "\n",
        "numeros = []\n",
        "\n",
        "numeros.append(10)\n",
        "numeros.append(20)\n",
        "numeros.append(30)\n",
        "numeros.append(40)\n",
        "numeros.insert(3, 15)  # insere um numero no indice desejado\n",
        "\n",
        "print(numeros, len(numeros), type(numeros))"
      ],
      "execution_count": null,
      "outputs": [
        {
          "output_type": "stream",
          "text": [
            "[10, 20, 30, 15, 40] 5 <class 'list'>\n"
          ],
          "name": "stdout"
        }
      ]
    },
    {
      "cell_type": "code",
      "metadata": {
        "colab": {
          "base_uri": "https://localhost:8080/"
        },
        "id": "dxqNlhUTiVnY",
        "outputId": "9383a717-090f-40fa-8b05-24b334690f16"
      },
      "source": [
        "# COlocando lista em ordem crescente (ou decrescente)\n",
        "\n",
        "numeros = [9, 3, 15, 2, 77, 8, 957, 1]\n",
        "\n",
        "numeros.sort()\n",
        "\n",
        "print(numeros)\n",
        "\n",
        "numeros.sort(reverse=True)\n",
        "\n",
        "print(numeros)"
      ],
      "execution_count": 2,
      "outputs": [
        {
          "output_type": "stream",
          "text": [
            "[1, 2, 3, 8, 9, 15, 77, 957]\n",
            "[957, 77, 15, 9, 8, 3, 2, 1]\n"
          ],
          "name": "stdout"
        }
      ]
    },
    {
      "cell_type": "code",
      "metadata": {
        "colab": {
          "base_uri": "https://localhost:8080/"
        },
        "id": "5m5tenijivSF",
        "outputId": "c0f78e16-8090-4cb8-c5c7-df3efe9113ce"
      },
      "source": [
        "# FORRR\n",
        "\n",
        "numeros = [9, 3, 15, 2, 77, 8, 957, 1]\n",
        "numeros_em_dobro = []\n",
        "\n",
        "for numero in numeros:               # note que 'numero' nao precisa ser declarado\n",
        "  numeros_em_dobro.append(numero*2)  # \"para cada numero em numeros\" --> faça alguma coisa\n",
        "  \n",
        "print(numeros)\n",
        "print(numeros_em_dobro) \n"
      ],
      "execution_count": 3,
      "outputs": [
        {
          "output_type": "stream",
          "text": [
            "[9, 3, 15, 2, 77, 8, 957, 1]\n",
            "[18, 6, 30, 4, 154, 16, 1914, 2]\n"
          ],
          "name": "stdout"
        }
      ]
    },
    {
      "cell_type": "code",
      "metadata": {
        "colab": {
          "base_uri": "https://localhost:8080/"
        },
        "id": "lcVNRluHlpoE",
        "outputId": "95eee8de-5f7f-4155-83f8-da55e34fdd14"
      },
      "source": [
        "# Visualizando todos os itens de uma lista\n",
        "# Declaração: 'for'\n",
        "\n",
        "# for valor in lista:\n",
        "#   Executo uma vez para cada valor.\n",
        "#   Em cada execução, a variável 'valor' possui uma informação diferente\n",
        "# Exemplo: Numa lista com [4, 12, 6]\n",
        "# Se tivermos: for valor in lista:\n",
        "# Temos na 'primeira' execução do for a informação '4' para a variável 'valor'\n",
        "# Temos na 'segunda' execução do for a informação '12' para a variável 'valor'\n",
        "# Temos na 'terceira' execução do for a informação '6' para a variável 'valor'\n",
        "\n",
        "numeros = [10, 90, 40, 30, 20, 50]\n",
        "numeros_em_dobro = []  # ou numeros_em_dobro = list()\n",
        "\n",
        "for numero in numeros:\n",
        "  # print(\"Início do for:\", numero, numeros, numeros_em_dobro)\n",
        "  numeros_em_dobro.append(numero * 2)\n",
        "  print(\"Execução do for para o número:\", f\"{numero} * 2 = {numero * 2}\", numeros_em_dobro)\n",
        "  # print()\n",
        "\n",
        "print(numeros)\n",
        "print(numeros_em_dobro)"
      ],
      "execution_count": 1,
      "outputs": [
        {
          "output_type": "stream",
          "text": [
            "Execução do for para o número: 10 * 2 = 20 [20]\n",
            "Execução do for para o número: 90 * 2 = 180 [20, 180]\n",
            "Execução do for para o número: 40 * 2 = 80 [20, 180, 80]\n",
            "Execução do for para o número: 30 * 2 = 60 [20, 180, 80, 60]\n",
            "Execução do for para o número: 20 * 2 = 40 [20, 180, 80, 60, 40]\n",
            "Execução do for para o número: 50 * 2 = 100 [20, 180, 80, 60, 40, 100]\n",
            "[10, 90, 40, 30, 20, 50]\n",
            "[20, 180, 80, 60, 40, 100]\n"
          ],
          "name": "stdout"
        }
      ]
    },
    {
      "cell_type": "code",
      "metadata": {
        "colab": {
          "base_uri": "https://localhost:8080/"
        },
        "id": "yACFHKrtmg6w",
        "outputId": "7d799fa7-85a9-47ab-dee7-9331abfade52"
      },
      "source": [
        "# For indexado, em que temos acesso ao indice de cada valor\n",
        "\n",
        "numeros = [9, 4, 3, 7, 5]\n",
        "\n",
        "for indice in range(len(numeros)):\n",
        "  numero = numeros[indice]  \n",
        "  print(\"Índice\", indice,\"Temos o valor:\", numero)\n",
        "\n",
        "  if indice == 1:\n",
        "    break"
      ],
      "execution_count": null,
      "outputs": [
        {
          "output_type": "stream",
          "text": [
            "Índice 0 Temos o valor: 9\n",
            "Índice 1 Temos o valor: 4\n"
          ],
          "name": "stdout"
        }
      ]
    },
    {
      "cell_type": "code",
      "metadata": {
        "colab": {
          "base_uri": "https://localhost:8080/"
        },
        "id": "X1jbDjNLoVRr",
        "outputId": "a208c196-c7a2-4b1d-c171-ce1ebab47b9c"
      },
      "source": [
        "numeros = [9, 4, 3, 7, 5]\n",
        "\n",
        "#enumerate transforma tudo em uma tupla\n",
        "\n",
        "print(enumerate(numeros))\n",
        "\n",
        "lista = list(numeros)\n",
        "print(lista)"
      ],
      "execution_count": null,
      "outputs": [
        {
          "output_type": "stream",
          "text": [
            "<enumerate object at 0x7fa994ba0500>\n",
            "[9, 4, 3, 7, 5]\n"
          ],
          "name": "stdout"
        }
      ]
    },
    {
      "cell_type": "code",
      "metadata": {
        "colab": {
          "base_uri": "https://localhost:8080/"
        },
        "id": "-TPNaJt4pGO2",
        "outputId": "5f70a55c-4a51-4038-fd77-e1ddb773001f"
      },
      "source": [
        "# Tuplas\n",
        "\n",
        "tupla = (1, 5, 9, 6, 7)    # tambem funciona sem os parenteses (na declaração)\n",
        "\n",
        "print(tupla, type(tupla))\n",
        "\n",
        "primeiro_numero = tupla[0]\n",
        "print(primeiro_numero, type(primeiro_numero))\n",
        "\n",
        "# tupla[0] = 55  #ERRO! POIS A TUPLA É IMUTÁVEL\n",
        "\n",
        "tupla2 = (\"Pedro\", \"Teles\")\n",
        "print(tupla2, type(tupla))\n",
        "\n",
        "nome = tupla2[0]\n",
        "sobrenome = tupla2[1]\n",
        "print(nome, sobrenome, type(nome), type(sobrenome))"
      ],
      "execution_count": null,
      "outputs": [
        {
          "output_type": "stream",
          "text": [
            "(1, 5, 9, 6, 7) <class 'tuple'>\n",
            "1 <class 'int'>\n",
            "('Pedro', 'Teles') <class 'tuple'>\n",
            "Pedro Teles <class 'str'> <class 'str'>\n"
          ],
          "name": "stdout"
        }
      ]
    },
    {
      "cell_type": "code",
      "metadata": {
        "colab": {
          "base_uri": "https://localhost:8080/"
        },
        "id": "OPJ2ItRHrNmg",
        "outputId": "2181acb2-88ef-499b-d52a-475fe337ce1f"
      },
      "source": [
        "# Desconstrução de tuplas\n",
        "\n",
        "nome, sobrenome = (\"Pedro\", \"Teles\")\n",
        "\n",
        "print(nome, type(nome))\n",
        "print(sobrenome, type(sobrenome))"
      ],
      "execution_count": null,
      "outputs": [
        {
          "output_type": "stream",
          "text": [
            "Pedro <class 'str'>\n",
            "Teles <class 'str'>\n"
          ],
          "name": "stdout"
        }
      ]
    },
    {
      "cell_type": "code",
      "metadata": {
        "id": "hkwLyTElrZl-",
        "colab": {
          "base_uri": "https://localhost:8080/"
        },
        "outputId": "0ba25822-ec58-4697-ac02-c0dbd4480a5a"
      },
      "source": [
        "\n",
        "numeros = [30, 6, 1, 9, 6]\n",
        "\n",
        "enum = enumerate(numeros)\n",
        "\n",
        "lista = list(enum)\n",
        "\n",
        "# Transformo o enum em lista apenas para exibí-lo no print\n",
        "print(lista, type(lista))\n",
        "\n",
        "print(lista[0], type(lista[0]))\n",
        "\n",
        "indice, valor = lista[0]\n",
        "\n",
        "print(indice, valor, type(indice), type(valor))"
      ],
      "execution_count": null,
      "outputs": [
        {
          "output_type": "stream",
          "text": [
            "[(0, 30), (1, 6), (2, 1), (3, 9), (4, 6)] <class 'list'>\n",
            "(0, 30) <class 'tuple'>\n",
            "0 30 <class 'int'> <class 'int'>\n"
          ],
          "name": "stdout"
        }
      ]
    },
    {
      "cell_type": "code",
      "metadata": {
        "colab": {
          "base_uri": "https://localhost:8080/"
        },
        "id": "jVNpOWKwtk1f",
        "outputId": "c5304b23-06d3-4a7d-d763-591a376dc32c"
      },
      "source": [
        "\n",
        "numeros = [9, 6, 7, 9, 2, 4, 3]\n",
        "\n",
        "for indice, valor in enumerate(numeros):\n",
        "  print(indice, valor)"
      ],
      "execution_count": null,
      "outputs": [
        {
          "output_type": "stream",
          "text": [
            "0 9\n",
            "1 6\n",
            "2 7\n",
            "3 9\n",
            "4 2\n",
            "5 4\n",
            "6 3\n"
          ],
          "name": "stdout"
        }
      ]
    },
    {
      "cell_type": "code",
      "metadata": {
        "colab": {
          "base_uri": "https://localhost:8080/"
        },
        "id": "oIoyqh3Ttxej",
        "outputId": "527d230a-9cf2-4c86-bd6b-d480bab00bf3"
      },
      "source": [
        "\n",
        "tupla = (5, 6, 9, 7, 3)\n",
        "\n",
        "print(tupla, type(tupla))\n",
        "\n",
        "# Transforma qualquer coisa em lista (desde que seja um tipo suportado)\n",
        "lista = list(tupla)\n",
        "\n",
        "lista[0] = 9\n",
        "\n",
        "print(lista)\n",
        "\n",
        "tupla = tuple(lista)\n",
        "\n",
        "print(tupla)"
      ],
      "execution_count": null,
      "outputs": [
        {
          "output_type": "stream",
          "text": [
            "(5, 6, 9, 7, 3) <class 'tuple'>\n",
            "[9, 6, 9, 7, 3]\n",
            "(9, 6, 9, 7, 3)\n"
          ],
          "name": "stdout"
        }
      ]
    },
    {
      "cell_type": "code",
      "metadata": {
        "colab": {
          "base_uri": "https://localhost:8080/"
        },
        "id": "kAOk0CnMt_6Y",
        "outputId": "0e2796d5-6f67-48f1-9d63-eaa7caf6641a"
      },
      "source": [
        "\n",
        "numeros = [9, 6, 7, 8]\n",
        "\n",
        "enum = enumerate(numeros)\n",
        "\n",
        "lista = list(enum)\n",
        "\n",
        "primeiro_item_enum = lista[0]\n",
        "\n",
        "print(lista)\n",
        "print()\n",
        "\n",
        "numeros = [9, 6, 7, 9, 2, 4, 3]\n",
        "\n",
        "for indice, valor in enumerate(numeros):\n",
        "  print(indice, valor)"
      ],
      "execution_count": null,
      "outputs": [
        {
          "output_type": "stream",
          "text": [
            "[(0, 9), (1, 6), (2, 7), (3, 8)]\n",
            "\n",
            "0 9\n",
            "1 6\n",
            "2 7\n",
            "3 9\n",
            "4 2\n",
            "5 4\n",
            "6 3\n"
          ],
          "name": "stdout"
        }
      ]
    },
    {
      "cell_type": "code",
      "metadata": {
        "colab": {
          "base_uri": "https://localhost:8080/"
        },
        "id": "6vEW3G_5uY7C",
        "outputId": "0abc7e77-b0e1-41d0-be0c-68b427430904"
      },
      "source": [
        "\n",
        "tupla = 5, 6, 7, 6, 1, 9, 5, 2, 7, 3, 6\n",
        "\n",
        "print(sum(tupla))"
      ],
      "execution_count": null,
      "outputs": [
        {
          "output_type": "stream",
          "text": [
            "57\n"
          ],
          "name": "stdout"
        }
      ]
    },
    {
      "cell_type": "code",
      "metadata": {
        "colab": {
          "base_uri": "https://localhost:8080/"
        },
        "id": "fdb7plBYuvCk",
        "outputId": "2f55fabf-8e55-45f7-94a4-f918ab8091da"
      },
      "source": [
        "\n",
        "\"\"\"\n",
        "From Rafael Bianco to Everyone:  04:17 PM\n",
        "professor se a lista for em string, como fazermos para clássicas em ordem alfabética?\n",
        "\"\"\"\n",
        "\n",
        "nomes = [\"Rafael\", \"Paulo\", \"Marina\", \"Mariana\", \"Gabriel\", \"Juliano\"]\n",
        "\n",
        "nomes.sort()\n",
        "\n",
        "print(nomes)"
      ],
      "execution_count": null,
      "outputs": [
        {
          "output_type": "stream",
          "text": [
            "['Gabriel', 'Juliano', 'Mariana', 'Marina', 'Paulo', 'Rafael']\n"
          ],
          "name": "stdout"
        }
      ]
    },
    {
      "cell_type": "code",
      "metadata": {
        "colab": {
          "base_uri": "https://localhost:8080/"
        },
        "id": "EnSVIXxtvBBC",
        "outputId": "07184b09-e64b-4306-db1e-162b3e9696bf"
      },
      "source": [
        "\"\"\"\n",
        "From Andrea Davi Carrer to Everyone:  04:01 PM\n",
        "e se eu quiser que ele incremente de 2 em 2?\n",
        "\"\"\"\n",
        "\n",
        "numeros = [10, 9, 6, 4, 7, 6, 6, 4, 1, 3, 9]\n",
        "\n",
        "for indice in range(0, len(numeros), 2):\n",
        "  print(indice)"
      ],
      "execution_count": null,
      "outputs": [
        {
          "output_type": "stream",
          "text": [
            "0\n",
            "2\n",
            "4\n",
            "6\n",
            "8\n",
            "10\n"
          ],
          "name": "stdout"
        }
      ]
    },
    {
      "cell_type": "code",
      "metadata": {
        "colab": {
          "base_uri": "https://localhost:8080/"
        },
        "id": "CLhgZVBBvKvA",
        "outputId": "317c98fe-de3d-4b4e-936e-658c72487c94"
      },
      "source": [
        "\"\"\"\n",
        "From Guilherme Alarsa to Everyone:  03:47 PM\n",
        "e uma lista que tivesse um input pro usuário colocar os valores?\n",
        "\"\"\"\n",
        "\n",
        "numeros = []\n",
        "\n",
        "print(\"Digite 3 números...\")\n",
        "\n",
        "for indice in range(3):\n",
        "  numero = int(input(\"Digite um número: \"))\n",
        "  numeros.append(numero)\n",
        "\n",
        "print(\"Os números digitados foram:\", numeros)"
      ],
      "execution_count": null,
      "outputs": [
        {
          "output_type": "stream",
          "text": [
            "Digite 3 números...\n",
            "Digite um número: 1\n",
            "Digite um número: 41\n",
            "Digite um número: 14848\n",
            "Os números digitados foram: [1, 41, 14848]\n"
          ],
          "name": "stdout"
        }
      ]
    },
    {
      "cell_type": "code",
      "metadata": {
        "colab": {
          "base_uri": "https://localhost:8080/"
        },
        "id": "lwv7f07Aw2LN",
        "outputId": "e7c3bbd6-68e2-40dd-fe3b-0cf592d2d7de"
      },
      "source": [
        "\n",
        "# Dicionários\n",
        "# Quase iguais as listas\n",
        "# A única diferença é que podemos/devemos definir os índices\n",
        "\n",
        "# Enquanto a lista atribui índices sequenciais de maneira automática,\n",
        "# os dicionários precisam desse índice definido\n",
        "\n",
        "dicionario = {\"nome\": \"Paulo\", \"sobrenome\": \"Salvatore\"}\n",
        "\n",
        "print(dicionario, type(dicionario))\n",
        "\n",
        "nome = dicionario[\"nome\"]\n",
        "print(nome, type(nome))\n",
        "\n",
        "sobrenome = dicionario[\"sobrenome\"]\n",
        "print(sobrenome, type(sobrenome))"
      ],
      "execution_count": null,
      "outputs": [
        {
          "output_type": "stream",
          "text": [
            "{'nome': 'Paulo', 'sobrenome': 'Salvatore'} <class 'dict'>\n",
            "Paulo <class 'str'>\n",
            "Salvatore <class 'str'>\n"
          ],
          "name": "stdout"
        }
      ]
    },
    {
      "cell_type": "code",
      "metadata": {
        "colab": {
          "base_uri": "https://localhost:8080/"
        },
        "id": "Fwzgk2xmxG4U",
        "outputId": "44fcb534-bb62-4e85-fbf5-e6c223b34e31"
      },
      "source": [
        "\n",
        "paulo = {\n",
        "    \"nome\": \"Paulo\",\n",
        "    \"sobrenome\": \"Salvatore\",\n",
        "}\n",
        "\n",
        "caio = {\n",
        "    \"nome\": \"Caio\",\n",
        "    \"sobrenome\": \"Felintro\",\n",
        "}\n",
        "\n",
        "renato = {\n",
        "    \"nome\": \"Renato\",\n",
        "    \"sobrenome\": \"Fonseca\",\n",
        "}\n",
        "\n",
        "pessoas = [paulo, caio, renato]\n",
        "\n",
        "for pessoa in pessoas:\n",
        "  nome = pessoa[\"nome\"]\n",
        "  sobrenome = pessoa[\"sobrenome\"]\n",
        "\n",
        "  print(nome, sobrenome)\n",
        "\n",
        "# print(paulo[\"nome\"], paulo[\"sobrenome\"])\n",
        "# print(caio[\"nome\"], caio[\"sobrenome\"])"
      ],
      "execution_count": null,
      "outputs": [
        {
          "output_type": "stream",
          "text": [
            "Paulo Salvatore\n",
            "Caio Felintro\n",
            "Renato Fonseca\n"
          ],
          "name": "stdout"
        }
      ]
    }
  ]
}